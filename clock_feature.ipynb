{
 "cells": [
  {
   "cell_type": "markdown",
   "metadata": {},
   "source": [
    "## Import dependencies"
   ]
  },
  {
   "cell_type": "code",
   "execution_count": 164,
   "metadata": {
    "collapsed": false,
    "deletable": true,
    "editable": true
   },
   "outputs": [],
   "source": [
    "import os\n",
    "import sys\n",
    "import argparse\n",
    "import numpy as np\n",
    "from sklearn.cluster import  KMeans\n",
    "import matplotlib as mpl\n",
    "mpl.use('Agg')\n",
    "import matplotlib.pyplot as plt\n",
    "import pandas as pd"
   ]
  },
  {
   "cell_type": "markdown",
   "metadata": {},
   "source": [
    "## Read CSV file into pandas dataframe"
   ]
  },
  {
   "cell_type": "code",
   "execution_count": 262,
   "metadata": {
    "collapsed": true
   },
   "outputs": [],
   "source": [
    "filename = '/home/mkhali8/dev/adrc-clustering/data/WordFluencyMultiTest.csv'"
   ]
  },
  {
   "cell_type": "code",
   "execution_count": 263,
   "metadata": {
    "collapsed": false,
    "deletable": true,
    "editable": true
   },
   "outputs": [],
   "source": [
    "#filename = 'WordFluencyMultiTest.csv'\n",
    "df = pd.read_csv(filename,sep = '\\t')"
   ]
  },
  {
   "cell_type": "code",
   "execution_count": 253,
   "metadata": {
    "collapsed": false,
    "deletable": true,
    "editable": true,
    "scrolled": true
   },
   "outputs": [
    {
     "data": {
      "text/html": [
       "<div>\n",
       "<table border=\"1\" class=\"dataframe\">\n",
       "  <thead>\n",
       "    <tr style=\"text-align: right;\">\n",
       "      <th></th>\n",
       "      <th>trails_testmethod</th>\n",
       "      <th>ds_rd_t1_2_resp</th>\n",
       "      <th>ds_rd_t1_5_scr</th>\n",
       "      <th>ds_rd_t2_5_scr</th>\n",
       "      <th>np_clock_center_q13</th>\n",
       "      <th>ds_fd_t1_3_resp</th>\n",
       "      <th>legacy_cerad_animal_veg_fluency_complete</th>\n",
       "      <th>avf_anm_notes</th>\n",
       "      <th>ds_fd_t2_3_resp</th>\n",
       "      <th>ds_testmethod</th>\n",
       "      <th>...</th>\n",
       "      <th>trails_a_na</th>\n",
       "      <th>avf_anm1</th>\n",
       "      <th>legacy_clock_complete</th>\n",
       "      <th>avf_anm4_c</th>\n",
       "      <th>ds_rd_t2_3_scr</th>\n",
       "      <th>np_clock_note</th>\n",
       "      <th>pt_id</th>\n",
       "      <th>trails_a_errors</th>\n",
       "      <th>ds_rd_t1_2_scr</th>\n",
       "      <th>ds_fd_t1_5_scr</th>\n",
       "    </tr>\n",
       "  </thead>\n",
       "  <tbody>\n",
       "    <tr>\n",
       "      <th>0</th>\n",
       "      <td>NaN</td>\n",
       "      <td>NaN</td>\n",
       "      <td>1.0</td>\n",
       "      <td>0.0</td>\n",
       "      <td>1.0</td>\n",
       "      <td>NaN</td>\n",
       "      <td>0</td>\n",
       "      <td>NaN</td>\n",
       "      <td>NaN</td>\n",
       "      <td>NaN</td>\n",
       "      <td>...</td>\n",
       "      <td>NaN</td>\n",
       "      <td>dog,cat,bird,horse,pig,cow,giraffe,elephant</td>\n",
       "      <td>0</td>\n",
       "      <td>1.0</td>\n",
       "      <td>1.0</td>\n",
       "      <td>NaN</td>\n",
       "      <td>116</td>\n",
       "      <td>0.0</td>\n",
       "      <td>1.0</td>\n",
       "      <td>1.0</td>\n",
       "    </tr>\n",
       "    <tr>\n",
       "      <th>1</th>\n",
       "      <td>NaN</td>\n",
       "      <td>NaN</td>\n",
       "      <td>NaN</td>\n",
       "      <td>NaN</td>\n",
       "      <td>1.0</td>\n",
       "      <td>NaN</td>\n",
       "      <td>0</td>\n",
       "      <td>NaN</td>\n",
       "      <td>NaN</td>\n",
       "      <td>NaN</td>\n",
       "      <td>...</td>\n",
       "      <td>NaN</td>\n",
       "      <td>bears,squirrels,cats,dogs,fish,snkaes,bats,pan...</td>\n",
       "      <td>0</td>\n",
       "      <td>1.0</td>\n",
       "      <td>1.0</td>\n",
       "      <td>note?</td>\n",
       "      <td>147</td>\n",
       "      <td>0.0</td>\n",
       "      <td>1.0</td>\n",
       "      <td>1.0</td>\n",
       "    </tr>\n",
       "    <tr>\n",
       "      <th>2</th>\n",
       "      <td>NaN</td>\n",
       "      <td>NaN</td>\n",
       "      <td>0.0</td>\n",
       "      <td>0.0</td>\n",
       "      <td>1.0</td>\n",
       "      <td>NaN</td>\n",
       "      <td>0</td>\n",
       "      <td>NaN</td>\n",
       "      <td>NaN</td>\n",
       "      <td>NaN</td>\n",
       "      <td>...</td>\n",
       "      <td>NaN</td>\n",
       "      <td>pig,chicken,cat,dog,elephant,mice</td>\n",
       "      <td>0</td>\n",
       "      <td>1.0</td>\n",
       "      <td>1.0</td>\n",
       "      <td>NaN</td>\n",
       "      <td>162</td>\n",
       "      <td>0.0</td>\n",
       "      <td>1.0</td>\n",
       "      <td>0.0</td>\n",
       "    </tr>\n",
       "    <tr>\n",
       "      <th>3</th>\n",
       "      <td>NaN</td>\n",
       "      <td>NaN</td>\n",
       "      <td>NaN</td>\n",
       "      <td>NaN</td>\n",
       "      <td>1.0</td>\n",
       "      <td>NaN</td>\n",
       "      <td>0</td>\n",
       "      <td>NaN</td>\n",
       "      <td>NaN</td>\n",
       "      <td>NaN</td>\n",
       "      <td>...</td>\n",
       "      <td>NaN</td>\n",
       "      <td>cat,dog,horse,cow,pig,lion,tiger,bear,squirrel...</td>\n",
       "      <td>0</td>\n",
       "      <td>3.0</td>\n",
       "      <td>1.0</td>\n",
       "      <td>NaN</td>\n",
       "      <td>163</td>\n",
       "      <td>0.0</td>\n",
       "      <td>1.0</td>\n",
       "      <td>1.0</td>\n",
       "    </tr>\n",
       "    <tr>\n",
       "      <th>4</th>\n",
       "      <td>NaN</td>\n",
       "      <td>NaN</td>\n",
       "      <td>NaN</td>\n",
       "      <td>NaN</td>\n",
       "      <td>1.0</td>\n",
       "      <td>NaN</td>\n",
       "      <td>0</td>\n",
       "      <td>NaN</td>\n",
       "      <td>NaN</td>\n",
       "      <td>NaN</td>\n",
       "      <td>...</td>\n",
       "      <td>NaN</td>\n",
       "      <td>fox,elephant,dog,cat,horse</td>\n",
       "      <td>0</td>\n",
       "      <td>0.0</td>\n",
       "      <td>0.0</td>\n",
       "      <td>NaN</td>\n",
       "      <td>164</td>\n",
       "      <td>0.0</td>\n",
       "      <td>1.0</td>\n",
       "      <td>0.0</td>\n",
       "    </tr>\n",
       "  </tbody>\n",
       "</table>\n",
       "<p>5 rows × 129 columns</p>\n",
       "</div>"
      ],
      "text/plain": [
       "   trails_testmethod  ds_rd_t1_2_resp  ds_rd_t1_5_scr  ds_rd_t2_5_scr  \\\n",
       "0                NaN              NaN             1.0             0.0   \n",
       "1                NaN              NaN             NaN             NaN   \n",
       "2                NaN              NaN             0.0             0.0   \n",
       "3                NaN              NaN             NaN             NaN   \n",
       "4                NaN              NaN             NaN             NaN   \n",
       "\n",
       "   np_clock_center_q13  ds_fd_t1_3_resp  \\\n",
       "0                  1.0              NaN   \n",
       "1                  1.0              NaN   \n",
       "2                  1.0              NaN   \n",
       "3                  1.0              NaN   \n",
       "4                  1.0              NaN   \n",
       "\n",
       "   legacy_cerad_animal_veg_fluency_complete avf_anm_notes  ds_fd_t2_3_resp  \\\n",
       "0                                         0           NaN              NaN   \n",
       "1                                         0           NaN              NaN   \n",
       "2                                         0           NaN              NaN   \n",
       "3                                         0           NaN              NaN   \n",
       "4                                         0           NaN              NaN   \n",
       "\n",
       "   ds_testmethod       ...        trails_a_na  \\\n",
       "0            NaN       ...                NaN   \n",
       "1            NaN       ...                NaN   \n",
       "2            NaN       ...                NaN   \n",
       "3            NaN       ...                NaN   \n",
       "4            NaN       ...                NaN   \n",
       "\n",
       "                                            avf_anm1  legacy_clock_complete  \\\n",
       "0        dog,cat,bird,horse,pig,cow,giraffe,elephant                      0   \n",
       "1  bears,squirrels,cats,dogs,fish,snkaes,bats,pan...                      0   \n",
       "2                  pig,chicken,cat,dog,elephant,mice                      0   \n",
       "3  cat,dog,horse,cow,pig,lion,tiger,bear,squirrel...                      0   \n",
       "4                         fox,elephant,dog,cat,horse                      0   \n",
       "\n",
       "   avf_anm4_c  ds_rd_t2_3_scr  np_clock_note pt_id  trails_a_errors  \\\n",
       "0         1.0             1.0            NaN   116              0.0   \n",
       "1         1.0             1.0          note?   147              0.0   \n",
       "2         1.0             1.0            NaN   162              0.0   \n",
       "3         3.0             1.0            NaN   163              0.0   \n",
       "4         0.0             0.0            NaN   164              0.0   \n",
       "\n",
       "   ds_rd_t1_2_scr  ds_fd_t1_5_scr  \n",
       "0             1.0             1.0  \n",
       "1             1.0             1.0  \n",
       "2             1.0             0.0  \n",
       "3             1.0             1.0  \n",
       "4             1.0             0.0  \n",
       "\n",
       "[5 rows x 129 columns]"
      ]
     },
     "execution_count": 253,
     "metadata": {},
     "output_type": "execute_result"
    }
   ],
   "source": [
    "df.head()"
   ]
  },
  {
   "cell_type": "code",
   "execution_count": 254,
   "metadata": {
    "collapsed": true,
    "deletable": true,
    "editable": true
   },
   "outputs": [],
   "source": [
    "dt = df['np_clock_center_q13']"
   ]
  },
  {
   "cell_type": "code",
   "execution_count": 255,
   "metadata": {
    "collapsed": false,
    "deletable": true,
    "editable": true
   },
   "outputs": [
    {
     "data": {
      "text/plain": [
       "0    1.0\n",
       "1    1.0\n",
       "2    1.0\n",
       "3    1.0\n",
       "4    1.0\n",
       "Name: np_clock_center_q13, dtype: float64"
      ]
     },
     "execution_count": 255,
     "metadata": {},
     "output_type": "execute_result"
    }
   ],
   "source": [
    "dt.head()\n"
   ]
  },
  {
   "cell_type": "code",
   "execution_count": 228,
   "metadata": {
    "collapsed": false,
    "deletable": true,
    "editable": true,
    "scrolled": true
   },
   "outputs": [
    {
     "data": {
      "text/plain": [
       "dtype('float64')"
      ]
     },
     "execution_count": 228,
     "metadata": {},
     "output_type": "execute_result"
    }
   ],
   "source": [
    "dt.dtype"
   ]
  },
  {
   "cell_type": "markdown",
   "metadata": {},
   "source": [
    "## convert pandas dataframe into numpy array"
   ]
  },
  {
   "cell_type": "code",
   "execution_count": 256,
   "metadata": {
    "collapsed": false
   },
   "outputs": [],
   "source": [
    "my_data = dt.as_matrix()"
   ]
  },
  {
   "cell_type": "code",
   "execution_count": 231,
   "metadata": {
    "collapsed": false
   },
   "outputs": [
    {
     "data": {
      "text/plain": [
       "numpy.ndarray"
      ]
     },
     "execution_count": 231,
     "metadata": {},
     "output_type": "execute_result"
    }
   ],
   "source": [
    "type(my_data)"
   ]
  },
  {
   "cell_type": "code",
   "execution_count": 230,
   "metadata": {
    "collapsed": false,
    "scrolled": true
   },
   "outputs": [
    {
     "data": {
      "text/plain": [
       "1549"
      ]
     },
     "execution_count": 230,
     "metadata": {},
     "output_type": "execute_result"
    }
   ],
   "source": [
    "np.size(my_data)"
   ]
  },
  {
   "cell_type": "markdown",
   "metadata": {},
   "source": [
    "## Write function to impute missing values in array"
   ]
  },
  {
   "cell_type": "code",
   "execution_count": 251,
   "metadata": {
    "collapsed": false
   },
   "outputs": [],
   "source": [
    "def impute(my_data, mode = np.median, thres = 0.2):\n",
    "    array = my_data\n",
    "    array_nans_size = np.size(array[np.isnan(array)])\n",
    "    array_nonans = array[~np.isnan(array)]\n",
    "    percent_missing = np.float(array_nans_size) / np.float(np.size(array))\n",
    "    if percent_missing < thres:\n",
    "        percent_missing\n",
    "        imputeval = mode(array_nonans)\n",
    "        array[np.isnan(array)] =imputeval\n",
    "        return(array)\n",
    "    else:\n",
    "        return None     "
   ]
  },
  {
   "cell_type": "markdown",
   "metadata": {},
   "source": [
    "## Run function on feature vector"
   ]
  },
  {
   "cell_type": "code",
   "execution_count": 258,
   "metadata": {
    "collapsed": false
   },
   "outputs": [],
   "source": [
    "my_data2 = impute(my_data, mode =np.median,thres = 0.2)"
   ]
  },
  {
   "cell_type": "markdown",
   "metadata": {},
   "source": [
    "my_data[np.isnan(my_data)]"
   ]
  }
 ],
 "metadata": {
  "kernelspec": {
   "display_name": "Python 2",
   "language": "python",
   "name": "python2"
  },
  "language_info": {
   "codemirror_mode": {
    "name": "ipython",
    "version": 2
   },
   "file_extension": ".py",
   "mimetype": "text/x-python",
   "name": "python",
   "nbconvert_exporter": "python",
   "pygments_lexer": "ipython2",
   "version": "2.7.6"
  }
 },
 "nbformat": 4,
 "nbformat_minor": 2
}
